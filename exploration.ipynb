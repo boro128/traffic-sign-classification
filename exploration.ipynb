{
 "cells": [
  {
   "cell_type": "code",
   "execution_count": 46,
   "metadata": {},
   "outputs": [],
   "source": [
    "import torch\n",
    "import torchvision\n",
    "import torchvision.transforms as transforms\n",
    "import numpy as np\n",
    "import seaborn as sns\n",
    "\n",
    "import matplotlib.pyplot as plt\n",
    "\n",
    "sns.set()"
   ]
  },
  {
   "cell_type": "code",
   "execution_count": 2,
   "metadata": {},
   "outputs": [],
   "source": [
    "train_transform = transforms.Compose([\n",
    "    transforms.RandomRotation(degrees=(-20, 20)),\n",
    "    transforms.ColorJitter(brightness=0.5, contrast=0, saturation=0, hue=0),\n",
    "    transforms.Grayscale(),\n",
    "    transforms.Resize(size=(32, 32)),\n",
    "    transforms.ToTensor(),\n",
    "    transforms.Normalize(mean=(.5,), std=(.5,))\n",
    "])\n",
    "\n",
    "test_transform = transforms.Compose([\n",
    "    transforms.Grayscale(),\n",
    "    transforms.Resize(size=(32, 32)),\n",
    "    transforms.ToTensor(),\n",
    "    transforms.Normalize(mean=(.5,), std=(.5,))\n",
    "])"
   ]
  },
  {
   "cell_type": "code",
   "execution_count": 3,
   "metadata": {},
   "outputs": [],
   "source": [
    "train_dataset = torchvision.datasets.GTSRB(root='./data', split='train', download=True, transform=train_transform)\n",
    "test_dataset = torchvision.datasets.GTSRB(root='./data', split='test', download=True, transform=test_transform)"
   ]
  },
  {
   "cell_type": "code",
   "execution_count": 4,
   "metadata": {},
   "outputs": [
    {
     "data": {
      "image/png": "[encoded data removed]",
      "text/plain": [
       "<Figure size 432x288 with 1 Axes>"
      ]
     },
     "metadata": {
      "needs_background": "light"
     },
     "output_type": "display_data"
    }
   ],
   "source": [
    "plt.imshow(transforms.ToPILImage()(train_dataset[500][0]), cmap='gray')\n",
    "plt.grid(False)"
   ]
  },
  {
   "cell_type": "code",
   "execution_count": 41,
   "metadata": {},
   "outputs": [],
   "source": [
    "def get_targets_tensor(dataset):\n",
    "\n",
    "    targets = torch.zeros(len(dataset))\n",
    "\n",
    "    for i in range(len(dataset)):\n",
    "\n",
    "        _, label = dataset[i]\n",
    "        targets[i] = label\n",
    "    \n",
    "    return targets"
   ]
  },
  {
   "cell_type": "code",
   "execution_count": 42,
   "metadata": {},
   "outputs": [],
   "source": [
    "targets = get_targets_tensor(train_dataset)\n",
    "classes, counts = targets.unique(return_counts=True)"
   ]
  },
  {
   "cell_type": "code",
   "execution_count": 43,
   "metadata": {},
   "outputs": [
    {
     "data": {
      "text/plain": [
       "tensor([ 0.,  1.,  2.,  3.,  4.,  5.,  6.,  7.,  8.,  9., 10., 11., 12., 13.,\n",
       "        14., 15., 16., 17., 18., 19., 20., 21., 22., 23., 24., 25., 26., 27.,\n",
       "        28., 29., 30., 31., 32., 33., 34., 35., 36., 37., 38., 39., 40., 41.,\n",
       "        42.])"
      ]
     },
     "execution_count": 43,
     "metadata": {},
     "output_type": "execute_result"
    }
   ],
   "source": [
    "classes"
   ]
  },
  {
   "cell_type": "code",
   "execution_count": 44,
   "metadata": {},
   "outputs": [
    {
     "data": {
      "text/plain": [
       "tensor([ 150, 1500, 1500,  960, 1320, 1260,  300,  960,  960,  990, 1350,  900,\n",
       "        1410, 1440,  540,  420,  300,  750,  810,  150,  240,  240,  270,  360,\n",
       "         180, 1020,  420,  180,  360,  180,  300,  540,  180,  480,  300,  810,\n",
       "         270,  150, 1380,  210,  240,  180,  180])"
      ]
     },
     "execution_count": 44,
     "metadata": {},
     "output_type": "execute_result"
    }
   ],
   "source": [
    "counts"
   ]
  },
  {
   "cell_type": "code",
   "execution_count": 39,
   "metadata": {},
   "outputs": [
    {
     "data": {
      "image/png": "[encoded data removed]",
      "text/plain": [
       "<Figure size 432x288 with 1 Axes>"
      ]
     },
     "metadata": {},
     "output_type": "display_data"
    }
   ],
   "source": [
    "num_classes = len(counts)\n",
    "\n",
    "plt.bar(x=np.arange(num_classes), height=counts)\n",
    "plt.show()"
   ]
  },
  {
   "cell_type": "markdown",
   "metadata": {},
   "source": [
    "Dataset is imbalanced"
   ]
  },
  {
   "cell_type": "code",
   "execution_count": 45,
   "metadata": {},
   "outputs": [
    {
     "data": {
      "text/plain": [
       "tensor([0.0067, 0.0007, 0.0007, 0.0010, 0.0008, 0.0008, 0.0033, 0.0010, 0.0010,\n",
       "        0.0010, 0.0007, 0.0011, 0.0007, 0.0007, 0.0019, 0.0024, 0.0033, 0.0013,\n",
       "        0.0012, 0.0067, 0.0042, 0.0042, 0.0037, 0.0028, 0.0056, 0.0010, 0.0024,\n",
       "        0.0056, 0.0028, 0.0056, 0.0033, 0.0019, 0.0056, 0.0021, 0.0033, 0.0012,\n",
       "        0.0037, 0.0067, 0.0007, 0.0048, 0.0042, 0.0056, 0.0056])"
      ]
     },
     "execution_count": 45,
     "metadata": {},
     "output_type": "execute_result"
    }
   ],
   "source": [
    "weights = 1 / counts\n",
    "weights"
   ]
  },
  {
   "cell_type": "code",
   "execution_count": 51,
   "metadata": {},
   "outputs": [],
   "source": [
    "sampler = torch.utils.data.WeightedRandomSampler(\n",
    "    weights=weights[targets.long()],\n",
    "    num_samples=num_classes,\n",
    "    replacement=True,\n",
    "    generator=torch.Generator()\n",
    ")"
   ]
  },
  {
   "cell_type": "code",
   "execution_count": null,
   "metadata": {},
   "outputs": [],
   "source": [
    "train_loader = torch.utils.data.DataLoader(dataset=train_dataset, batch_size=16, sampler=sampler)"
   ]
  }
 ],
 "metadata": {
  "interpreter": {
   "hash": "e801ab5b73966ec3be3352efd1ab2b9391ca450b124cc987c82af7daca3dc82b"
  },
  "kernelspec": {
   "display_name": "Python 3.9.7 ('traffic_signs')",
   "language": "python",
   "name": "python3"
  },
  "language_info": {
   "codemirror_mode": {
    "name": "ipython",
    "version": 3
   },
   "file_extension": ".py",
   "mimetype": "text/x-python",
   "name": "python",
   "nbconvert_exporter": "python",
   "pygments_lexer": "ipython3",
   "version": "3.9.7"
  },
  "orig_nbformat": 4
 },
 "nbformat": 4,
 "nbformat_minor": 2
}
